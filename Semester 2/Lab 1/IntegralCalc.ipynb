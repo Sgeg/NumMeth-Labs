{
 "cells": [
  {
   "cell_type": "code",
   "execution_count": 478,
   "metadata": {
    "collapsed": false
   },
   "outputs": [],
   "source": [
    "from sympy import *\n",
    "from sympy.abc import x\n",
    "from sympy.parsing.sympy_parser import parse_expr\n",
    "from sympy.plotting import plot\n",
    "import matplotlib.pyplot as plt\n",
    "from IPython.display import display\n",
    "import numpy as np\n",
    "init_printing(use_latex = 'mathjax')"
   ]
  },
  {
   "cell_type": "code",
   "execution_count": 479,
   "metadata": {
    "collapsed": true
   },
   "outputs": [],
   "source": [
    "def parseInput(filename): #input format: f /n a b eps\n",
    "    with open(filename) as f:\n",
    "        lines = f.readlines()\n",
    "    func = parse_expr(lines[0])\n",
    "    a, b, eps = map(float, lines[1].split())\n",
    "    return func, a, b, eps"
   ]
  },
  {
   "cell_type": "markdown",
   "metadata": {},
   "source": [
    "### Partition integral into pieces and calculate approximation"
   ]
  },
  {
   "cell_type": "code",
   "execution_count": 480,
   "metadata": {
    "collapsed": true
   },
   "outputs": [],
   "source": [
    "def calcInt(func, a, b, n, approx):\n",
    "    res = .0\n",
    "    point = a\n",
    "    delta = (b - a) / n\n",
    "    for i in range(n):\n",
    "        res = res + approx(func, point, point + delta)\n",
    "        point = point + delta\n",
    "    return res"
   ]
  },
  {
   "cell_type": "markdown",
   "metadata": {},
   "source": [
    "### Simple function maximum finder"
   ]
  },
  {
   "cell_type": "code",
   "execution_count": 481,
   "metadata": {
    "collapsed": true
   },
   "outputs": [],
   "source": [
    "def findMax(func, a, b, n):\n",
    "    M = -1e9\n",
    "    point = a\n",
    "    delta = (b - a) / n\n",
    "    for i in range(n):\n",
    "        M = max(M, abs(func(point)))\n",
    "        point = point + delta\n",
    "    return M"
   ]
  },
  {
   "cell_type": "markdown",
   "metadata": {},
   "source": [
    "# And main part actually"
   ]
  },
  {
   "cell_type": "code",
   "execution_count": 482,
   "metadata": {
    "collapsed": false,
    "scrolled": true
   },
   "outputs": [
    {
     "name": "stdout",
     "output_type": "stream",
     "text": [
      "Our function interval and accuracy\n"
     ]
    },
    {
     "data": {
      "text/latex": [
       "$$\\frac{\\sqrt{2} e^{- \\frac{x^{2}}{2}}}{2 \\sqrt{\\pi}}$$"
      ],
      "text/plain": [
       "      2 \n",
       "    -x  \n",
       "    ────\n",
       "     2  \n",
       "√2⋅ℯ    \n",
       "────────\n",
       "  2⋅√π  "
      ]
     },
     "metadata": {},
     "output_type": "display_data"
    },
    {
     "name": "stdout",
     "output_type": "stream",
     "text": [
      "a = -2.0, b = 2.0, eps = 0.01\n"
     ]
    },
    {
     "data": {
      "image/png": "[encoded data removed]",
      "text/plain": [
       "<matplotlib.figure.Figure at 0x7f1819922588>"
      ]
     },
     "metadata": {},
     "output_type": "display_data"
    },
    {
     "data": {
      "text/plain": [
       "<sympy.plotting.plot.Plot at 0x7f181999dc18>"
      ]
     },
     "execution_count": 482,
     "metadata": {},
     "output_type": "execute_result"
    }
   ],
   "source": [
    "func, a, b, eps = parseInput(\"input.txt\")\n",
    "print(\"Our function interval and accuracy\")\n",
    "display(func)\n",
    "print(\"a = {}, b = {}, eps = {}\".format(a, b, eps))\n",
    "plot(func)"
   ]
  },
  {
   "cell_type": "code",
   "execution_count": 483,
   "metadata": {
    "collapsed": true
   },
   "outputs": [],
   "source": [
    "lam_func = lambdify(x, func) #convert sympy function to python, works 2 magnitudes faster\n",
    "n = 1000 #number of intervals to find maximum of function, chosen arbitrary"
   ]
  },
  {
   "cell_type": "markdown",
   "metadata": {},
   "source": [
    "# Rectangle method goes first"
   ]
  },
  {
   "cell_type": "markdown",
   "metadata": {},
   "source": [
    "### Left rectangle method"
   ]
  },
  {
   "cell_type": "code",
   "execution_count": 484,
   "metadata": {
    "collapsed": true
   },
   "outputs": [],
   "source": [
    "def leftRecApprox(func, a, b):\n",
    "    return (b - a)* func(a)"
   ]
  },
  {
   "cell_type": "code",
   "execution_count": 485,
   "metadata": {
    "collapsed": false
   },
   "outputs": [],
   "source": [
    "def leftRecCalcN(a, b, maxF, eps): #maxF - maximum of f' on (a, b)\n",
    "    return int(pow((b - a),2) * maxF / (2 * eps)) + 1"
   ]
  },
  {
   "cell_type": "markdown",
   "metadata": {},
   "source": [
    "### Central rectangle method"
   ]
  },
  {
   "cell_type": "code",
   "execution_count": 486,
   "metadata": {
    "collapsed": true
   },
   "outputs": [],
   "source": [
    "def centrRecApprox(func, a, b):\n",
    "    return (b - a) * func((a + b) / 2)"
   ]
  },
  {
   "cell_type": "code",
   "execution_count": 487,
   "metadata": {
    "collapsed": false
   },
   "outputs": [],
   "source": [
    "def centrRecCalcN(a, b, maxF, eps): #maxF - maximum of f'' on (a, b)\n",
    "    return int(pow((b - a),3) * maxF / (24 * eps)) + 1"
   ]
  },
  {
   "cell_type": "markdown",
   "metadata": {},
   "source": [
    "### Right rectangle method"
   ]
  },
  {
   "cell_type": "code",
   "execution_count": 488,
   "metadata": {
    "collapsed": true
   },
   "outputs": [],
   "source": [
    "def rightRecApprox(func, a, b):\n",
    "    return (b - a) * func(b)"
   ]
  },
  {
   "cell_type": "code",
   "execution_count": 489,
   "metadata": {
    "collapsed": true
   },
   "outputs": [],
   "source": [
    "def rightRecCalcN(a, b, maxF, eps): #maxF - maximum of f' on (a, b)\n",
    "    return int(pow((b - a),2) * maxF / (2 * eps)) + 1"
   ]
  },
  {
   "cell_type": "code",
   "execution_count": 490,
   "metadata": {
    "collapsed": false
   },
   "outputs": [
    {
     "name": "stdout",
     "output_type": "stream",
     "text": [
      "Left\n"
     ]
    },
    {
     "data": {
      "text/latex": [
       "$$320$$"
      ],
      "text/plain": [
       "320"
      ]
     },
     "metadata": {},
     "output_type": "display_data"
    },
    {
     "data": {
      "text/latex": [
       "$$0.9544969240814584$$"
      ],
      "text/plain": [
       "0.9544969240814584"
      ]
     },
     "metadata": {},
     "output_type": "display_data"
    },
    {
     "name": "stdout",
     "output_type": "stream",
     "text": [
      "Right\n"
     ]
    },
    {
     "data": {
      "text/latex": [
       "$$320$$"
      ],
      "text/plain": [
       "320"
      ]
     },
     "metadata": {},
     "output_type": "display_data"
    },
    {
     "data": {
      "text/latex": [
       "$$0.9544969240814584$$"
      ],
      "text/plain": [
       "0.9544969240814584"
      ]
     },
     "metadata": {},
     "output_type": "display_data"
    },
    {
     "name": "stdout",
     "output_type": "stream",
     "text": [
      "Central\n"
     ]
    },
    {
     "data": {
      "text/latex": [
       "$$107$$"
      ],
      "text/plain": [
       "107"
      ]
     },
     "metadata": {},
     "output_type": "display_data"
    },
    {
     "data": {
      "text/latex": [
       "$$0.9545123110045266$$"
      ],
      "text/plain": [
       "0.9545123110045266"
      ]
     },
     "metadata": {},
     "output_type": "display_data"
    }
   ],
   "source": [
    "print(\"Left\")\n",
    "dfunc = diff(func, x)\n",
    "lam_dfunc = lambdify(x, func)\n",
    "maxF = findMax(lam_dfunc, a, b, n)\n",
    "n1l = leftRecCalcN(a, b, maxF, eps)\n",
    "display(n1l)\n",
    "res1l = calcInt(lam_func, a, b, n1l, leftRecApprox)\n",
    "display(res1l)\n",
    "\n",
    "print(\"Right\")\n",
    "n1r = rightRecCalcN(a, b, maxF, eps)\n",
    "display(n1r)\n",
    "res1r = calcInt(lam_func, a, b, n1r, rightRecApprox)\n",
    "display(res1r)\n",
    "\n",
    "print(\"Central\")\n",
    "ddfunc = diff(func, x)\n",
    "lam_ddfunc = lambdify(x, func)\n",
    "maxF = findMax(lam_ddfunc, a, b, n)\n",
    "n1 = centrRecCalcN(a, b, maxF, eps)\n",
    "display(n1)\n",
    "res1 = calcInt(lam_func, a, b, n1, centrRecApprox)\n",
    "display(res1)"
   ]
  },
  {
   "cell_type": "markdown",
   "metadata": {
    "collapsed": true
   },
   "source": [
    "# Trapezia method"
   ]
  },
  {
   "cell_type": "code",
   "execution_count": 491,
   "metadata": {
    "collapsed": true
   },
   "outputs": [],
   "source": [
    "def trapeziaApprox(func, a, b):\n",
    "    return (b - a) * (func(a) + func(b)) / 2"
   ]
  },
  {
   "cell_type": "code",
   "execution_count": 492,
   "metadata": {
    "collapsed": true
   },
   "outputs": [],
   "source": [
    "def trapeziaCalcN(a, b, maxF, eps): #maxF - maximum of f'' on (a, b)\n",
    "    return int(pow(pow((b - a),3) * maxF / (12 * eps), 1./2)) + 1"
   ]
  },
  {
   "cell_type": "code",
   "execution_count": 493,
   "metadata": {
    "collapsed": false
   },
   "outputs": [
    {
     "data": {
      "text/latex": [
       "$$15$$"
      ],
      "text/plain": [
       "15"
      ]
     },
     "metadata": {},
     "output_type": "display_data"
    },
    {
     "data": {
      "text/latex": [
       "$$0.9544745858623539$$"
      ],
      "text/plain": [
       "0.9544745858623539"
      ]
     },
     "metadata": {},
     "output_type": "display_data"
    }
   ],
   "source": [
    "n2 = trapeziaCalcN(a, b, maxF, eps)\n",
    "display(n2)\n",
    "res2 = calcInt(lam_func, a, b, n1, leftRecApprox)\n",
    "display(res2)"
   ]
  },
  {
   "cell_type": "markdown",
   "metadata": {},
   "source": [
    "# Last but not least, Simpson's method"
   ]
  },
  {
   "cell_type": "code",
   "execution_count": 494,
   "metadata": {
    "collapsed": true
   },
   "outputs": [],
   "source": [
    "def simpsonApprox(func, a, b):\n",
    "    return (b - a) * (func(a) + 4 * func((a + b) / 2) + func(b)) / 6"
   ]
  },
  {
   "cell_type": "code",
   "execution_count": 495,
   "metadata": {
    "collapsed": true
   },
   "outputs": [],
   "source": [
    "def simpsonCalcN(a, b, maxF, eps): #maxF - maximum of f'''' on (a, b)\n",
    "    return int(pow(pow((b - a),5) * maxF / (2880 * eps), 1./4)) + 1"
   ]
  },
  {
   "cell_type": "code",
   "execution_count": 496,
   "metadata": {
    "collapsed": false
   },
   "outputs": [
    {
     "data": {
      "text/latex": [
       "$$3$$"
      ],
      "text/plain": [
       "3"
      ]
     },
     "metadata": {},
     "output_type": "display_data"
    },
    {
     "data": {
      "text/latex": [
       "$$0.9544997359571358$$"
      ],
      "text/plain": [
       "0.9544997359571358"
      ]
     },
     "metadata": {},
     "output_type": "display_data"
    }
   ],
   "source": [
    "d4func = diff(diff(ddfunc, x), x)\n",
    "lam_d4func = lambdify(x, d4func)\n",
    "maxF = findMax(lam_d4func, a, b, n)\n",
    "n3 = simpsonCalcN(a, b, maxF, eps)\n",
    "display(n3)\n",
    "res3 = calcInt(lam_func, a, b, n1, simpsonApprox)\n",
    "display(res3)"
   ]
  },
  {
   "cell_type": "markdown",
   "metadata": {},
   "source": [
    "### So we have following results"
   ]
  },
  {
   "cell_type": "code",
   "execution_count": 497,
   "metadata": {
    "collapsed": false
   },
   "outputs": [
    {
     "data": {
      "text/plain": [
       "[[['central', 107, 1.2575380820112336e-05, 0.9545123110045266],\n",
       "  ['left', 320, 2.8115422481267416e-06, 0.9544969240814584],\n",
       "  ['right', 320, 2.8115422481267416e-06, 0.9544969240814584]],\n",
       " ['trapezial', 15, 2.514976135259417e-05, 0.9544745858623539],\n",
       " ['simpson', 3, 3.334292841827846e-10, 0.9544997359571358]]"
      ]
     },
     "execution_count": 497,
     "metadata": {},
     "output_type": "execute_result"
    }
   ],
   "source": [
    "#Right and left rectangle methods are rarely used on practice, so I will not consider them any further\n",
    "res = (calcInt(lam_func, a, b, 10000, centrRecApprox) + calcInt(lam_func, a, b, 10000, trapeziaApprox) +\n",
    "       calcInt(lam_func, a, b, 10000, simpsonApprox)) / 3\n",
    "delta1l = abs(res1l - res)\n",
    "delta1r = abs(res1r - res)\n",
    "delta1 = abs(res1 - res)\n",
    "delta2 = abs(res2 - res)\n",
    "delta3 = abs(res3 - res)\n",
    "[[['central', n1, delta1, res1], ['left', n1l, delta1l, res1l], ['right', n1r, delta1r, res1r]],\n",
    " ['trapezial', n2, delta2, res2], ['simpson', n3, delta3, res3]]"
   ]
  },
  {
   "cell_type": "markdown",
   "metadata": {},
   "source": [
    "## Lets try with equal number of iterations"
   ]
  },
  {
   "cell_type": "code",
   "execution_count": 498,
   "metadata": {
    "collapsed": false
   },
   "outputs": [
    {
     "name": "stdout",
     "output_type": "stream",
     "text": [
      "num = 30\n"
     ]
    },
    {
     "data": {
      "text/plain": [
       "[['central', 0.00015989041434916196, 0.9546596260380557],\n",
       " ['trapezial', 0.000319850827431023, 0.9541798847962755],\n",
       " ['simpson', 2.3332910936701978e-08, 0.9544997122907956]]"
      ]
     },
     "execution_count": 498,
     "metadata": {},
     "output_type": "execute_result"
    }
   ],
   "source": [
    "num = 30\n",
    "res1 = calcInt(lam_func, a, b, num, centrRecApprox)\n",
    "res2 = calcInt(lam_func, a, b, num, trapeziaApprox)\n",
    "res3 = calcInt(lam_func, a, b, num, simpsonApprox)\n",
    "delta1 = abs(res1 - res)\n",
    "delta2 = abs(res2 - res)\n",
    "delta3 = abs(res3 - res)\n",
    "print(\"num = {}\".format(num))\n",
    "[['central', delta1, res1], ['trapezial', delta2, res2], ['simpson', delta3, res3]]"
   ]
  },
  {
   "cell_type": "markdown",
   "metadata": {},
   "source": [
    "# Concluding all these results lets plot integral as a function of upper bound"
   ]
  },
  {
   "cell_type": "code",
   "execution_count": 499,
   "metadata": {
    "collapsed": true
   },
   "outputs": [],
   "source": [
    "def integralUpp(func, a, b, n, approx): #Slightly modified function calcInt\n",
    "    res = .0\n",
    "    point = a\n",
    "    delta = (b - a) / n\n",
    "    points = []\n",
    "    values = []\n",
    "    for i in range(n):\n",
    "        points.append(point)\n",
    "        values.append(res)\n",
    "        res = res + approx(func, point, point + delta)\n",
    "        point = point + delta\n",
    "    points.append(point)\n",
    "    values.append(res)\n",
    "    return points, values"
   ]
  },
  {
   "cell_type": "code",
   "execution_count": 500,
   "metadata": {
    "collapsed": false
   },
   "outputs": [
    {
     "data": {
      "image/png": "[encoded data removed]",
      "text/plain": [
       "<matplotlib.figure.Figure at 0x7f1819874550>"
      ]
     },
     "metadata": {},
     "output_type": "display_data"
    }
   ],
   "source": [
    "num = max((int)(b - a), 5)\n",
    "points, values = integralUpp(lam_func, a, b, 10000, centrRecApprox)\n",
    "points1, values1 = integralUpp(lam_func, a, b, num, centrRecApprox)\n",
    "points2, values2 = integralUpp(lam_func, a, b, num, trapeziaApprox)\n",
    "points3, values3 = integralUpp(lam_func, a, b, num, simpsonApprox)\n",
    "plt.plot(points, values, 'black', points1, values1, 'oy', points2, values2, 'or', points3, values3, 'ob')\n",
    "plt.show()"
   ]
  }
 ],
 "metadata": {
  "anaconda-cloud": {},
  "kernelspec": {
   "display_name": "Python [conda root]",
   "language": "python",
   "name": "conda-root-py"
  },
  "language_info": {
   "codemirror_mode": {
    "name": "ipython",
    "version": 3
   },
   "file_extension": ".py",
   "mimetype": "text/x-python",
   "name": "python",
   "nbconvert_exporter": "python",
   "pygments_lexer": "ipython3",
   "version": "3.5.2"
  }
 },
 "nbformat": 4,
 "nbformat_minor": 1
}
