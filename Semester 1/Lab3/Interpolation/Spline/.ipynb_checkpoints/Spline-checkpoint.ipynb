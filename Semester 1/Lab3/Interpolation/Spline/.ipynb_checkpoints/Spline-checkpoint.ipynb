{
 "cells": [
  {
   "cell_type": "code",
   "execution_count": 1,
   "metadata": {
    "collapsed": true
   },
   "outputs": [],
   "source": [
    "import numpy as np\n",
    "import sympy as sp\n",
    "from sympy.plotting import plot\n",
    "from sympy.parsing.sympy_parser import parse_expr\n",
    "import matplotlib.pyplot as plt\n",
    "from IPython.display import display"
   ]
  },
  {
   "cell_type": "code",
   "execution_count": 2,
   "metadata": {
    "collapsed": true
   },
   "outputs": [],
   "source": [
    "def getPoints(f, l, r, n):\n",
    "    delta = (r - l) / (n - 1)\n",
    "    points = []\n",
    "    for i in range(n):\n",
    "        points.append((l + i * delta, f.subs(list(f.free_symbols)[0], l + i * delta)))\n",
    "    return points"
   ]
  },
  {
   "cell_type": "code",
   "execution_count": 19,
   "metadata": {
    "collapsed": true
   },
   "outputs": [],
   "source": [
    "def trMatAlg(a, b, c, d):\n",
    "    if(a.shape[0] == 1):\n",
    "        return [d/b]\n",
    "    alpha = np.zeros(a.shape[0] - 1, dtype = 'float')\n",
    "    beta = np.zeros(a.shape[0] - 1, dtype = 'float')\n",
    "    alpha[-1] = -a[-1] / b[-1]\n",
    "    beta[-1] = d[-1] / b[-1]\n",
    "    for i in range(alpha.shape[0] - 1, 0, -1):\n",
    "        alpha[i - 1] = -a[i] / (b[i] + c[i] * alpha[i])\n",
    "        beta[i - 1] = (d[i] - c[i] * beta[i]) / (b[i] + c[i] * alpha[i])\n",
    "    x = np.zeros(a.shape[0], dtype = 'float')\n",
    "    x[0] = (d[0] - beta[0]) / (alpha[0] * c[0] + b[0])\n",
    "    for i in range(1, x.shape[0]):\n",
    "        x[i] = alpha[i - 1] * x[i - 1] + beta[i - 1]\n",
    "    return x"
   ]
  },
  {
   "cell_type": "markdown",
   "metadata": {},
   "source": [
    "# Spline"
   ]
  },
  {
   "cell_type": "code",
   "execution_count": 4,
   "metadata": {
    "collapsed": true
   },
   "outputs": [],
   "source": [
    "def parsePoints(s):\n",
    "    points = []\n",
    "    pairs = s.split(';')\n",
    "    for pair in pairs:\n",
    "        fun = pair.split()\n",
    "        points.append((float(fun[0]), float(fun[1])))\n",
    "    return points"
   ]
  },
  {
   "cell_type": "code",
   "execution_count": 83,
   "metadata": {
    "collapsed": false
   },
   "outputs": [],
   "source": [
    "def cubicSpline(points):\n",
    "    x, y = map(list, zip(*points))\n",
    "    n = len(x) - 1;\n",
    "    h = [x[i + 1] - x[i] for i in range(n)]\n",
    "    A = [0] + h[1:-1]\n",
    "    B = [2 * (h[i] + h[i + 1]) for i in range(n - 1)]\n",
    "    C = h[1:-1] + [0]\n",
    "    D = [3 * ((y[i + 2] - y[i + 1]) / h[i + 1] - (y[i + 1] - y[i]) / h[i]) for i in range(n - 1)]\n",
    "    M = np.empty([n - 1, n - 1])\n",
    "    for i in range(len(B)):\n",
    "        M[i, i] = B[i]\n",
    "        if i < len(B) - 1:\n",
    "            M[i + 1, i] = A[i + 1]\n",
    "            M[i, i + 1] = C[i]\n",
    "    c = [0] + list(np.linalg.solve(M, D))\n",
    "    b = [float] * n\n",
    "    for i in range(n - 1):\n",
    "        b[i] = (y[i + 1] - y[i]) / h[i] - h[i] * (c[i + 1] + 2 * c[i]) / 3\n",
    "    b[n - 1] = (y[n] - y[n - 1]) / h[n - 1] - 2./3 * c[n - 1] * h[n - 1]\n",
    "    d = [float] * n\n",
    "    for i in range(n - 1):\n",
    "        d[i] = (c[i + 1] - c[i]) / (3 * h[i])\n",
    "    d[n - 1] = -c[n - 1] / (3 * h[n - 1])\n",
    "    a = y[:-1]\n",
    "    return a, b, c, d"
   ]
  },
  {
   "cell_type": "code",
   "execution_count": 84,
   "metadata": {
    "collapsed": false
   },
   "outputs": [],
   "source": [
    "class spline:\n",
    "    a = [float]\n",
    "    b = [float]\n",
    "    c = [float]\n",
    "    d = [float]\n",
    "    x = [float]\n",
    "    free_symbols = [' ']\n",
    "    def __init__(self, A, B, C, D, X):\n",
    "        self.a = A\n",
    "        self.b = B\n",
    "        self.c = C\n",
    "        self.d = D\n",
    "        self.x = X\n",
    "    def calc(self, val):\n",
    "        l, r = 0, len(self.x) - 1\n",
    "        while r > l:\n",
    "            mid = int((l + r + 1) / 2)\n",
    "            if self.x[mid] > val:\n",
    "                r = mid - 1\n",
    "            else:\n",
    "                l = mid\n",
    "        ind = l\n",
    "        if ind == len(self.a):\n",
    "            ind = ind - 1\n",
    "        return self.a[ind] + self.b[ind] * (val - self.x[ind]) + self.c[ind] * (val - self.x[ind]) ** 2 + self.d[ind] * (val - self.x[ind]) ** 3\n",
    "    def subs(self, trash, val):\n",
    "        return self.calc(val)"
   ]
  },
  {
   "cell_type": "code",
   "execution_count": 86,
   "metadata": {
    "collapsed": false
   },
   "outputs": [
    {
     "data": {
      "image/png": "[encoded data removed]",
      "text/plain": [
       "<matplotlib.figure.Figure at 0x7fe02e166eb8>"
      ]
     },
     "metadata": {},
     "output_type": "display_data"
    },
    {
     "data": {
      "image/png": "[encoded data removed]",
      "text/plain": [
       "<matplotlib.figure.Figure at 0x7fe028e6b2e8>"
      ]
     },
     "metadata": {},
     "output_type": "display_data"
    }
   ],
   "source": [
    "with open('input.txt') as f:\n",
    "    lines = f.readlines()\n",
    "for i in range(len(lines)):\n",
    "    points = parsePoints(lines[i])\n",
    "    points = sorted(points)\n",
    "    a, b, c, d = cubicSpline(points)\n",
    "    spl = spline(a, b, c, d, [p[0] for p in points])\n",
    "    \n",
    "    val, image = map(list, zip(*points))\n",
    "    l, r = points[0][0], points[-1][0]\n",
    "    \n",
    "    sVal, sImage = map(list, zip(*getPoints(spl, l - 0.2, r + 0.2, int(100*(r - l)))))\n",
    "    plt.plot(sVal, sImage, 'red', val, image, 'bo')\n",
    "    plt.show()"
   ]
  },
  {
   "cell_type": "code",
   "execution_count": null,
   "metadata": {
    "collapsed": true
   },
   "outputs": [],
   "source": []
  }
 ],
 "metadata": {
  "anaconda-cloud": {},
  "kernelspec": {
   "display_name": "Python [conda root]",
   "language": "python",
   "name": "conda-root-py"
  },
  "language_info": {
   "codemirror_mode": {
    "name": "ipython",
    "version": 3
   },
   "file_extension": ".py",
   "mimetype": "text/x-python",
   "name": "python",
   "nbconvert_exporter": "python",
   "pygments_lexer": "ipython3",
   "version": "3.5.2"
  }
 },
 "nbformat": 4,
 "nbformat_minor": 1
}
