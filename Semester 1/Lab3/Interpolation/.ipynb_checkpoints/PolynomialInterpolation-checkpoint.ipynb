{
 "cells": [
  {
   "cell_type": "code",
   "execution_count": 30,
   "metadata": {
    "collapsed": true
   },
   "outputs": [],
   "source": [
    "import numpy as np\n",
    "import sympy as sp\n",
    "from sympy.plotting import plot\n",
    "from sympy.parsing.sympy_parser import parse_expr\n",
    "import matplotlib.pyplot as plt"
   ]
  },
  {
   "cell_type": "code",
   "execution_count": 31,
   "metadata": {
    "collapsed": false
   },
   "outputs": [],
   "source": [
    "sp.init_printing(use_latex = 'mathjax')\n",
    "from IPython.display import display"
   ]
  },
  {
   "cell_type": "code",
   "execution_count": 32,
   "metadata": {
    "collapsed": false
   },
   "outputs": [],
   "source": [
    "def getPoints(f, l, r, n):\n",
    "    delta = (r - l) / (n - 1)\n",
    "    points = []\n",
    "    for i in range(n):\n",
    "        points.append((l + i * delta, f.subs(list(f.free_symbols)[0], l + i * delta)))\n",
    "    return points"
   ]
  },
  {
   "cell_type": "markdown",
   "metadata": {},
   "source": [
    "# LagrangePolynomial"
   ]
  },
  {
   "cell_type": "markdown",
   "metadata": {},
   "source": [
    "### Expllicit coefficients"
   ]
  },
  {
   "cell_type": "code",
   "execution_count": 33,
   "metadata": {
    "collapsed": true
   },
   "outputs": [],
   "source": [
    "def lagrange(f):\n",
    "    pol = np.zeros(len(f), dtype = 'float')\n",
    "    allMult = np.zeros(len(f) + 1)\n",
    "    allMult[0] = 1\n",
    "    for i in range(len(f)):\n",
    "        allMultPr = allMult.copy()\n",
    "        for j in range(len(allMult)):\n",
    "            allMult[j] = -allMult[j] * f[i][0]\n",
    "        for j in range(len(allMult) - 1):\n",
    "            allMult[j + 1] = allMult[j + 1] + allMultPr[j]\n",
    "    for i in range(len(f)):\n",
    "        res = np.zeros(len(f))\n",
    "        curr = allMult.copy()\n",
    "        for j in range(len(curr) - 1, 0, -1):\n",
    "            curr[j - 1] = curr[j - 1] + curr[j] * f[i][0]\n",
    "            res[j - 1] = curr[j]\n",
    "        coef = f[i][1]\n",
    "        for j in range(len(f)):\n",
    "            if(i != j):\n",
    "                coef = coef / (f[i][0] - f[j][0])\n",
    "        for j in range(len(res)):\n",
    "            pol[j] = pol[j] + res[j] * coef\n",
    "    x = sp.symbols('x')\n",
    "    expr = sp.Float(pol[0])\n",
    "    for i in range(1, len(pol)):\n",
    "        expr += pol[i] * x**i\n",
    "    return expr"
   ]
  },
  {
   "cell_type": "markdown",
   "metadata": {},
   "source": [
    "### Lagrange form"
   ]
  },
  {
   "cell_type": "code",
   "execution_count": 34,
   "metadata": {
    "collapsed": true
   },
   "outputs": [],
   "source": [
    "class lagrangePol:\n",
    "    points = []\n",
    "    free_symbols = [' ']\n",
    "    def __init__(self, pnts):\n",
    "        self.points = sorted(pnts)\n",
    "    def calc(self, val):\n",
    "        res = 0.\n",
    "        for i in range(len(self.points)):\n",
    "            coef = self.points[i][1]\n",
    "            for j in range(len(self.points)):\n",
    "                if i != j:\n",
    "                    coef = coef * (val - self.points[j][0]) / (self.points[i][0] - self.points[j][0])\n",
    "            res = res + coef\n",
    "        return res\n",
    "    def calcList(self, valList):\n",
    "        return [self.calc(val) for val in valList]\n",
    "    def subs(self, trash, val):\n",
    "        return self.calc(val)"
   ]
  },
  {
   "cell_type": "markdown",
   "metadata": {},
   "source": [
    "# Newtons Polynomial"
   ]
  },
  {
   "cell_type": "code",
   "execution_count": 35,
   "metadata": {
    "collapsed": false
   },
   "outputs": [],
   "source": [
    "def newtonCoef(f):\n",
    "    if len(f) == 1:\n",
    "        return f[0][0]\n",
    "    tab = np.zeros([2, len(f)], dtype = 'float')\n",
    "    coef = np.empty(len(f), dtype = 'float')\n",
    "    coef[0] = f[0][1]\n",
    "    for i in range(len(f)):\n",
    "        tab[0, i] = f[i][1]\n",
    "    for i in range(1, len(f)):\n",
    "        for j in range(len(f) - i):\n",
    "            tab[i % 2, j] = (tab[(i - 1) % 2, j] - tab[(i - 1) % 2, j + 1])/(f[j][0] - f[j + i][0])\n",
    "        coef[i] = tab[i % 2, 0]\n",
    "    return coef"
   ]
  },
  {
   "cell_type": "code",
   "execution_count": 36,
   "metadata": {
    "collapsed": false
   },
   "outputs": [],
   "source": [
    "class newtonPol:\n",
    "    coef = []\n",
    "    point = []\n",
    "    free_symbols = [' ']\n",
    "    def __init__(self, f):\n",
    "        f = sorted(f)\n",
    "        self.coef = newtonCoef(f)\n",
    "        self.point = [i[0] for i in f]\n",
    "    def prnt(self):\n",
    "        print(self.coef)\n",
    "    def calc(self, val):\n",
    "        res = 0.\n",
    "        term = 1.\n",
    "        for i in range(len(self.coef)):\n",
    "            res = res + term * self.coef[i]\n",
    "            term = term * (val - self.point[i])\n",
    "        return res\n",
    "    def calcList(self, valList):\n",
    "        res = np.empty(len(valList))\n",
    "        for i in range(len(valList)):\n",
    "            res[i] = self.calc(valList[i])\n",
    "    def subs(self, trash, val):\n",
    "        return self.calc(val)"
   ]
  },
  {
   "cell_type": "markdown",
   "metadata": {},
   "source": [
    "# Trying functions and points"
   ]
  },
  {
   "cell_type": "code",
   "execution_count": 37,
   "metadata": {
    "collapsed": true
   },
   "outputs": [],
   "source": [
    "def parsePoints(s):\n",
    "    points = []\n",
    "    pairs = s.split(';')\n",
    "    for pair in pairs:\n",
    "        fun = pair.split()\n",
    "        points.append((float(fun[0]), float(fun[1])))\n",
    "    return points"
   ]
  },
  {
   "cell_type": "code",
   "execution_count": 40,
   "metadata": {
    "collapsed": false
   },
   "outputs": [
    {
     "data": {
      "text/latex": [
       "$$- 12.84618413063 x^{4} + 46.4744952545019 x^{3} - 50.5001968490953 x^{2} + 15.8718857252235 x + 1.0$$"
      ],
      "text/plain": [
       "                  4                     3                     2               \n",
       "- 12.84618413063⋅x  + 46.4744952545019⋅x  - 50.5001968490953⋅x  + 15.871885725\n",
       "\n",
       "            \n",
       "2235⋅x + 1.0"
      ]
     },
     "metadata": {},
     "output_type": "display_data"
    },
    {
     "name": "stdout",
     "output_type": "stream",
     "text": [
      "Lagrange polynomial\n"
     ]
    },
    {
     "data": {
      "image/png": "[encoded data removed]",
      "text/plain": [
       "<matplotlib.figure.Figure at 0x7f4b94eedc88>"
      ]
     },
     "metadata": {},
     "output_type": "display_data"
    },
    {
     "name": "stdout",
     "output_type": "stream",
     "text": [
      "Newtons polynomial\n"
     ]
    },
    {
     "data": {
      "image/png": "[encoded data removed]",
      "text/plain": [
       "<matplotlib.figure.Figure at 0x7f4b94ef9940>"
      ]
     },
     "metadata": {},
     "output_type": "display_data"
    }
   ],
   "source": [
    "with open('input.txt') as f:\n",
    "    lines = f.readlines()\n",
    "for i in range(len(lines)):\n",
    "    points = parsePoints(lines[i])\n",
    "    nPol = newtonPol(points)\n",
    "    lPol = lagrangePol(points)\n",
    "    \n",
    "    val, image = map(list, zip(*points))\n",
    "    points = sorted(points)\n",
    "    l, r = points[0][0], points[-1][0]\n",
    "    nVal, nImage = map(list, zip(*getPoints(nPol, l - 0.2, r + 0.2, int(100*(r - l)))))\n",
    "    lVal, lImage = map(list, zip(*getPoints(lPol, l - 0.2, r + 0.2, int(100*(r - l)))))\n",
    "    plt.plot(lVal, lImage, 'red', val, image, 'bo')\n",
    "    display(lagrange(points))\n",
    "    print('Lagrange polynomial')\n",
    "    plt.show()\n",
    "    plt.plot(nVal, nImage, 'red', val, image, 'bo')\n",
    "    print('Newtons polynomial')\n",
    "    plt.show()"
   ]
  },
  {
   "cell_type": "code",
   "execution_count": 39,
   "metadata": {
    "collapsed": false,
    "scrolled": true
   },
   "outputs": [
    {
     "data": {
      "text/latex": [
       "$$x \\log{\\left (x \\right )} \\sin{\\left (x^{2} \\right )}$$"
      ],
      "text/plain": [
       "            ⎛ 2⎞\n",
       "x⋅log(x)⋅sin⎝x ⎠"
      ]
     },
     "metadata": {},
     "output_type": "display_data"
    },
    {
     "data": {
      "text/latex": [
       "$$- 14.9162060535058 x^{5} + 143.450244690699 x^{4} - 530.523652328268 x^{3} + 941.230483718909 x^{2} - 800.584172113489 x + 261.343302085654$$"
      ],
      "text/plain": [
       "                    5                     4                     3             \n",
       "- 14.9162060535058⋅x  + 143.450244690699⋅x  - 530.523652328268⋅x  + 941.230483\n",
       "\n",
       "        2                                        \n",
       "718909⋅x  - 800.584172113489⋅x + 261.343302085654"
      ]
     },
     "metadata": {},
     "output_type": "display_data"
    },
    {
     "data": {
      "image/png": "[encoded data removed]",
      "text/plain": [
       "<matplotlib.figure.Figure at 0x7f4b952045c0>"
      ]
     },
     "metadata": {},
     "output_type": "display_data"
    },
    {
     "name": "stdout",
     "output_type": "stream",
     "text": [
      "\n"
     ]
    },
    {
     "data": {
      "text/latex": [
       "$$x^{3} + 2 x + 12.5$$"
      ],
      "text/plain": [
       " 3             \n",
       "x  + 2⋅x + 12.5"
      ]
     },
     "metadata": {},
     "output_type": "display_data"
    },
    {
     "data": {
      "text/latex": [
       "$$0.999999999999986 x^{3} + 5.6843418860808 \\cdot 10^{-14} x^{2} + 1.99999999999983 x + 12.5000000000001$$"
      ],
      "text/plain": [
       "                   3                        2                                 \n",
       "0.999999999999986⋅x  + 5.6843418860808e-14⋅x  + 1.99999999999983⋅x + 12.500000\n",
       "\n",
       "       \n",
       "0000001"
      ]
     },
     "metadata": {},
     "output_type": "display_data"
    },
    {
     "data": {
      "image/png": "[encoded data removed]",
      "text/plain": [
       "<matplotlib.figure.Figure at 0x7f4b94e395c0>"
      ]
     },
     "metadata": {},
     "output_type": "display_data"
    },
    {
     "name": "stdout",
     "output_type": "stream",
     "text": [
      "\n"
     ]
    }
   ],
   "source": [
    "with open('inputFunc.txt') as f:\n",
    "    fileData = f.read()\n",
    "lines = fileData.split(';')\n",
    "for l in lines:\n",
    "    line = l.split('\\n')\n",
    "    line = [x for x in line if x]\n",
    "    expr = parse_expr(line[0])\n",
    "    nums = line[1].split()\n",
    "    l = float(nums[0])\n",
    "    r = float(nums[1])\n",
    "    n = int(nums[2])\n",
    "\n",
    "    points = getPoints(expr, l, r, n)\n",
    "    pVal, pImage = map(list, zip(*points))\n",
    "    lPol = lagrangePol(points)\n",
    "    nPol = newtonPol(points)\n",
    "    delta = 0.2\n",
    "    val, image = map(list, zip(*getPoints(expr, l - delta, r + delta, int(100*(r - l)))))\n",
    "    lVal, lImage = map(list, zip(*getPoints(lPol, l - delta, r + delta, int(100*(r - l)))))\n",
    "    nVal, nImage = map(list, zip(*getPoints(nPol, l - delta, r + delta, int(100*(r - l)))))\n",
    "\n",
    "    display(expr)\n",
    "    display(lagrange(points))\n",
    "    plt.plot(val, image, lVal, lImage, 'r--', pVal, pImage, 'ro')\n",
    "    # plt.xlim(0, 3)\n",
    "    # plt.ylim(-3, 3)\n",
    "    # plt.gca().set_aspect('equal', adjustable='box')\n",
    "    # print(\"Lagrange polynomial\")\n",
    "    plt.show()\n",
    "    #plt.plot(val, image, nVal, nImage, 'r--', pVal, pImage, 'ro')\n",
    "    # print(\"Newton polynomial\")\n",
    "    # plt.show()\n",
    "    print()"
   ]
  },
  {
   "cell_type": "code",
   "execution_count": null,
   "metadata": {
    "collapsed": true
   },
   "outputs": [],
   "source": []
  }
 ],
 "metadata": {
  "anaconda-cloud": {},
  "kernelspec": {
   "display_name": "Python [conda root]",
   "language": "python",
   "name": "conda-root-py"
  },
  "language_info": {
   "codemirror_mode": {
    "name": "ipython",
    "version": 3
   },
   "file_extension": ".py",
   "mimetype": "text/x-python",
   "name": "python",
   "nbconvert_exporter": "python",
   "pygments_lexer": "ipython3",
   "version": "3.5.2"
  }
 },
 "nbformat": 4,
 "nbformat_minor": 1
}
