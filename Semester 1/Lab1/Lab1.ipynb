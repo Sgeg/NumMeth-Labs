{
 "cells": [
  {
   "cell_type": "code",
   "execution_count": 18,
   "metadata": {
    "collapsed": true
   },
   "outputs": [],
   "source": [
    "from sympy import *\n",
    "from sympy.parsing.sympy_parser import parse_expr\n",
    "from sympy.plotting.plot import Plot"
   ]
  },
  {
   "cell_type": "code",
   "execution_count": 19,
   "metadata": {
    "collapsed": false
   },
   "outputs": [],
   "source": [
    "init_printing()"
   ]
  },
  {
   "cell_type": "markdown",
   "metadata": {},
   "source": [
    "# Dichotomy method"
   ]
  },
  {
   "cell_type": "code",
   "execution_count": 20,
   "metadata": {
    "collapsed": false
   },
   "outputs": [],
   "source": [
    "def dichotomy(expr, x, l, r, eps):\n",
    "    neg = (l < 0)\n",
    "    while r - l > eps:\n",
    "        mid = (r + l) / 2;\n",
    "        val = expr.subs(x, mid)\n",
    "        if val < 0 and neg or val > 0 and not neg:\n",
    "            l = mid\n",
    "        else:\n",
    "            r = mid\n",
    "    return (r + l) / 2"
   ]
  },
  {
   "cell_type": "code",
   "execution_count": 21,
   "metadata": {
    "collapsed": false
   },
   "outputs": [
    {
     "name": "stdout",
     "output_type": "stream",
     "text": [
      "1.3423290848731995\n"
     ]
    }
   ],
   "source": [
    "with open('inputDichotomy.txt') as f:\n",
    "    line = f.readlines()\n",
    "expr = parse_expr(line[0])\n",
    "x = list(expr.free_symbols)[0]\n",
    "ind = line[1].find(' ')\n",
    "l = int(line[1][:ind])\n",
    "r = int(line[1][ind + 1:])\n",
    "eps = 1e-6\n",
    "res = dichotomy(expr, x, l, r, eps)\n",
    "print(res)"
   ]
  },
  {
   "cell_type": "markdown",
   "metadata": {},
   "source": [
    "# Newtons Method"
   ]
  },
  {
   "cell_type": "code",
   "execution_count": 22,
   "metadata": {
    "collapsed": true
   },
   "outputs": [],
   "source": [
    "def newtonsMethod(expr, x, initPoint, eps):\n",
    "    res = initPoint\n",
    "    diff = float(100)\n",
    "    while abs(diff) > eps:\n",
    "        diff = expr.subs(x, res).evalf()/diffExpr.subs(x, res).evalf()\n",
    "        res = res - diff\n",
    "    return res"
   ]
  },
  {
   "cell_type": "code",
   "execution_count": 23,
   "metadata": {
    "collapsed": false
   },
   "outputs": [
    {
     "name": "stdout",
     "output_type": "stream",
     "text": [
      "1.34232921921325\n"
     ]
    }
   ],
   "source": [
    "with open('inputNewtonMethod.txt') as f:\n",
    "    line = f.readlines()\n",
    "expr = parse_expr(line[0])\n",
    "x = list(expr.free_symbols)[0]\n",
    "diffExpr = expr.diff(x)\n",
    "eps = 1e-6\n",
    "res = newtonsMethod(expr, x, float(line[1]), float(line[2]))\n",
    "print(res)"
   ]
  },
  {
   "cell_type": "markdown",
   "metadata": {},
   "source": [
    "# Fixed-point method"
   ]
  },
  {
   "cell_type": "code",
   "execution_count": 1,
   "metadata": {
    "collapsed": false
   },
   "outputs": [],
   "source": [
    "def fixedPointMethod(expr, x, initPoint, fun, eps):\n",
    "    g = x - fun*expr\n",
    "    curr = initPoint\n",
    "    pr = initPoint + 100\n",
    "    while abs(pr - curr) > eps:\n",
    "        pr = curr\n",
    "        curr = g.subs(x, pr).evalf()\n",
    "    return curr"
   ]
  },
  {
   "cell_type": "code",
   "execution_count": 2,
   "metadata": {
    "collapsed": false
   },
   "outputs": [
    {
     "ename": "NameError",
     "evalue": "name 'parse_expr' is not defined",
     "output_type": "error",
     "traceback": [
      "\u001b[0;31m---------------------------------------------------------------------------\u001b[0m",
      "\u001b[0;31mNameError\u001b[0m                                 Traceback (most recent call last)",
      "\u001b[0;32m<ipython-input-2-f7d4d6802fe6>\u001b[0m in \u001b[0;36m<module>\u001b[0;34m()\u001b[0m\n\u001b[1;32m      1\u001b[0m \u001b[0;32mwith\u001b[0m \u001b[0mopen\u001b[0m\u001b[0;34m(\u001b[0m\u001b[0;34m'inputFixedPointIteration.txt'\u001b[0m\u001b[0;34m)\u001b[0m \u001b[0;32mas\u001b[0m \u001b[0mf\u001b[0m\u001b[0;34m:\u001b[0m\u001b[0;34m\u001b[0m\u001b[0m\n\u001b[1;32m      2\u001b[0m     \u001b[0mline\u001b[0m \u001b[0;34m=\u001b[0m \u001b[0mf\u001b[0m\u001b[0;34m.\u001b[0m\u001b[0mreadlines\u001b[0m\u001b[0;34m(\u001b[0m\u001b[0;34m)\u001b[0m\u001b[0;34m\u001b[0m\u001b[0m\n\u001b[0;32m----> 3\u001b[0;31m \u001b[0mexpr\u001b[0m \u001b[0;34m=\u001b[0m \u001b[0mparse_expr\u001b[0m\u001b[0;34m(\u001b[0m\u001b[0mline\u001b[0m\u001b[0;34m[\u001b[0m\u001b[0;36m0\u001b[0m\u001b[0;34m]\u001b[0m\u001b[0;34m)\u001b[0m\u001b[0;34m\u001b[0m\u001b[0m\n\u001b[0m\u001b[1;32m      4\u001b[0m \u001b[0mx\u001b[0m \u001b[0;34m=\u001b[0m \u001b[0mlist\u001b[0m\u001b[0;34m(\u001b[0m\u001b[0mexpr\u001b[0m\u001b[0;34m.\u001b[0m\u001b[0mfree_symbols\u001b[0m\u001b[0;34m)\u001b[0m\u001b[0;34m[\u001b[0m\u001b[0;36m0\u001b[0m\u001b[0;34m]\u001b[0m\u001b[0;34m\u001b[0m\u001b[0m\n\u001b[1;32m      5\u001b[0m \u001b[0mfun\u001b[0m \u001b[0;34m=\u001b[0m \u001b[0mparse_expr\u001b[0m\u001b[0;34m(\u001b[0m\u001b[0mline\u001b[0m\u001b[0;34m[\u001b[0m\u001b[0;36m1\u001b[0m\u001b[0;34m]\u001b[0m\u001b[0;34m)\u001b[0m\u001b[0;34m\u001b[0m\u001b[0m\n",
      "\u001b[0;31mNameError\u001b[0m: name 'parse_expr' is not defined"
     ]
    }
   ],
   "source": [
    "with open('inputFixedPointIteration.txt') as f:\n",
    "    line = f.readlines()\n",
    "expr = parse_expr(line[0])\n",
    "x = list(expr.free_symbols)[0]\n",
    "fun = parse_expr(line[1])\n",
    "initPoint = int(line[2])\n",
    "eps = 1e-6\n",
    "const = float(1)\n",
    "res = fixedPointMethod(expr, x, initPoint, fun, eps)\n",
    "print(res)"
   ]
  }
 ],
 "metadata": {
  "anaconda-cloud": {},
  "kernelspec": {
   "display_name": "Python [conda root]",
   "language": "python",
   "name": "conda-root-py"
  },
  "language_info": {
   "codemirror_mode": {
    "name": "ipython",
    "version": 3
   },
   "file_extension": ".py",
   "mimetype": "text/x-python",
   "name": "python",
   "nbconvert_exporter": "python",
   "pygments_lexer": "ipython3",
   "version": "3.5.2"
  }
 },
 "nbformat": 4,
 "nbformat_minor": 1
}
