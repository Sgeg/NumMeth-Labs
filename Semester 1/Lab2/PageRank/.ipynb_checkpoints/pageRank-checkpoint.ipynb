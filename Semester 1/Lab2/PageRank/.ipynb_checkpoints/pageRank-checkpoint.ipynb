{
 "cells": [
  {
   "cell_type": "code",
   "execution_count": 1,
   "metadata": {
    "collapsed": true
   },
   "outputs": [],
   "source": [
    "import numpy as np"
   ]
  },
  {
   "cell_type": "markdown",
   "metadata": {},
   "source": [
    "# PageRank"
   ]
  },
  {
   "cell_type": "code",
   "execution_count": 2,
   "metadata": {
    "collapsed": false
   },
   "outputs": [],
   "source": [
    "def pageRank(A, p, eps):\n",
    "    for j in range(A.shape[0]):\n",
    "        n = (A[:, j] > 0).sum()\n",
    "        if n > 0:\n",
    "            for i in range(A.shape[0]):\n",
    "                A[i, j] = A[i, j] / n\n",
    "        else:\n",
    "            for i in range(A.shape[0]):\n",
    "                A[i, j] = 1 / A.shape[0]\n",
    "    x = np.full([A.shape[0], 1], 1./A.shape[0], dtype = 'float')\n",
    "    pr = x.copy()\n",
    "    M = (1 - p) * A + p / A.shape[0] * np.ones(A.shape)\n",
    "    while True:\n",
    "        x = np.matmul(M , pr)\n",
    "        if np.linalg.norm(x - pr) < eps:\n",
    "            break\n",
    "        [x, pr] = [pr, x]\n",
    "    return x"
   ]
  },
  {
   "cell_type": "code",
   "execution_count": 3,
   "metadata": {
    "collapsed": false
   },
   "outputs": [
    {
     "name": "stdout",
     "output_type": "stream",
     "text": [
      "1:\n",
      "[[ 0.35943061]\n",
      " [ 0.15373665]\n",
      " [ 0.20213523]\n",
      " [ 0.0569395 ]\n",
      " [ 0.0569395 ]\n",
      " [ 0.0569395 ]\n",
      " [ 0.0569395 ]\n",
      " [ 0.0569395 ]]\n",
      "2:\n",
      "[[ 0.37252685]\n",
      " [ 0.19582391]\n",
      " [ 0.39414924]\n",
      " [ 0.0375    ]]\n",
      "3:\n",
      "[[ 0.39361702]\n",
      " [ 0.30319149]\n",
      " [ 0.30319149]]\n"
     ]
    }
   ],
   "source": [
    "with open('input.txt') as f:\n",
    "    lines = f.readlines()\n",
    "for i in range(len(lines)):\n",
    "    A = np.matrix(lines[i], dtype = 'float')\n",
    "    print(str(i + 1) + ':')\n",
    "    print(pageRank(A, 0.15, 1e-9))"
   ]
  }
 ],
 "metadata": {
  "anaconda-cloud": {},
  "kernelspec": {
   "display_name": "Python [conda root]",
   "language": "python",
   "name": "conda-root-py"
  },
  "language_info": {
   "codemirror_mode": {
    "name": "ipython",
    "version": 3
   },
   "file_extension": ".py",
   "mimetype": "text/x-python",
   "name": "python",
   "nbconvert_exporter": "python",
   "pygments_lexer": "ipython3",
   "version": "3.5.2"
  }
 },
 "nbformat": 4,
 "nbformat_minor": 1
}
