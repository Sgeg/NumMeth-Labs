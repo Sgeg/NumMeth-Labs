{
 "cells": [
  {
   "cell_type": "code",
   "execution_count": 7,
   "metadata": {
    "collapsed": true
   },
   "outputs": [],
   "source": [
    "import numpy as np"
   ]
  },
  {
   "cell_type": "markdown",
   "metadata": {},
   "source": [
    "# Gaussian Elimination"
   ]
  },
  {
   "cell_type": "code",
   "execution_count": 141,
   "metadata": {
    "collapsed": false
   },
   "outputs": [],
   "source": [
    "def gauss(A):\n",
    "    if not A.shape[0] + 1 == A.shape[1]:\n",
    "        return 'Wrong matrix shape'\n",
    "    for i in range(0, A.shape[0]):\n",
    "        maxEl = np.absolute(A)[i:,i].argmax() + i\n",
    "        A[[i, maxEl]] = A[[maxEl, i]]\n",
    "        if abs(A[i, i]) < 1e-6:\n",
    "            return 'Matrix rank less than n'\n",
    "        for j in range(i + 1, A.shape[0]):\n",
    "            coef = -A[j, i] / A[i, i]\n",
    "            for k in range(i, A.shape[1]):\n",
    "                A[j, k] = A[j, k] + coef*A[i, k]\n",
    "    for i in range(A.shape[0] - 1, -1, -1):\n",
    "        for j in range(i - 1, -1, -1):\n",
    "            coef = -A[j, i] / A[i, i]\n",
    "            A[j, i] = 0\n",
    "            A[j, -1] = A[j, -1] + coef * A[i, -1]\n",
    "        A[i, -1] = A[i, -1] / A[i, i]\n",
    "        A[i, i] = 1\n",
    "    return A[:, -1]"
   ]
  },
  {
   "cell_type": "code",
   "execution_count": 237,
   "metadata": {
    "collapsed": false
   },
   "outputs": [
    {
     "name": "stdout",
     "output_type": "stream",
     "text": [
      "1:\n",
      "[[-4.]\n",
      " [-5.]\n",
      " [ 2.]]\n",
      "2:\n",
      "Matrix rank less than n\n",
      "3:\n",
      "[[-8.]\n",
      " [ 3.]]\n",
      "4:\n",
      "Matrix rank less than n\n"
     ]
    }
   ],
   "source": [
    "with open('inputGaussianElimination.txt') as f:\n",
    "    lines = f.readlines()\n",
    "for i in range(len(lines)):\n",
    "    A = np.matrix(lines[i], dtype = 'float')\n",
    "    print(str(i + 1) + ':')\n",
    "    print(gauss(A))"
   ]
  },
  {
   "cell_type": "markdown",
   "metadata": {},
   "source": [
    "# Jacobi Method"
   ]
  },
  {
   "cell_type": "code",
   "execution_count": 229,
   "metadata": {
    "collapsed": false
   },
   "outputs": [],
   "source": [
    "def jacobi(A, x, eps):\n",
    "    R = A.copy()[:,:-1]\n",
    "    g = A.copy()[:, -1]\n",
    "    Drev = np.zeros(R.shape, dtype = 'float')\n",
    "    for i in range(R.shape[0]):\n",
    "        R[i, i] = 0\n",
    "        if(A[i, i] != 0):\n",
    "            Drev[i, i] = 1 / A[i, i]\n",
    "    R = np.matmul(Drev, -R)\n",
    "    g = np.matmul(Drev, g)\n",
    "    while True:\n",
    "        pr = x.copy()\n",
    "        x = np.matmul(R, x) + g\n",
    "        if np.linalg.norm(x - pr) < eps:\n",
    "            break\n",
    "    return x"
   ]
  },
  {
   "cell_type": "code",
   "execution_count": 241,
   "metadata": {
    "collapsed": false
   },
   "outputs": [
    {
     "name": "stdout",
     "output_type": "stream",
     "text": [
      "1:\n",
      "[[ 7.1111107 ]\n",
      " [-3.22222137]]\n",
      "2:\n",
      "[[ 0.99999995]\n",
      " [ 2.00000008]\n",
      " [-1.00000006]\n",
      " [ 1.00000009]]\n"
     ]
    }
   ],
   "source": [
    "with open('inputJacobiMethod.txt') as f:\n",
    "    lines = f.readlines()\n",
    "for i in range(len(lines)):\n",
    "    A = np.matrix(lines[i], dtype = 'float')\n",
    "    print(str(i + 1) + ':')\n",
    "    print(jacobi(A, np.ones([1,A.shape[0]], dtype = 'float').transpose(), 1e-6))"
   ]
  },
  {
   "cell_type": "markdown",
   "metadata": {},
   "source": [
    "# Gauss–Seidel method"
   ]
  },
  {
   "cell_type": "code",
   "execution_count": 254,
   "metadata": {
    "collapsed": false
   },
   "outputs": [],
   "source": [
    "def gaussSeidel(A, x, eps):\n",
    "    pr = x.copy()\n",
    "    while True:\n",
    "        for i in range(x.shape[0]):\n",
    "            x[i] = A[i, -1]\n",
    "            for j in range(i):\n",
    "                x[i] = x[i] - A[i, j] * x[j]\n",
    "            for j in range(i + 1, x.shape[0]):\n",
    "                x[i] = x[i] - A[i, j] * pr[j]\n",
    "            x[i] = x[i] / A[i, i]\n",
    "        if np.linalg.norm(x - pr) < eps:\n",
    "            break\n",
    "        [x, pr] = [pr, x]\n",
    "    return x"
   ]
  },
  {
   "cell_type": "code",
   "execution_count": 255,
   "metadata": {
    "collapsed": false
   },
   "outputs": [
    {
     "name": "stdout",
     "output_type": "stream",
     "text": [
      "1:\n",
      "[[ 7.1111107 ]\n",
      " [-3.22222193]]\n",
      "2:\n",
      "[[ 1.00000004]\n",
      " [ 2.        ]\n",
      " [-1.00000001]\n",
      " [ 1.        ]]\n"
     ]
    }
   ],
   "source": [
    "with open('inputJacobiMethod.txt') as f:\n",
    "    lines = f.readlines()\n",
    "for i in range(len(lines)):\n",
    "    A = np.matrix(lines[i], dtype = 'float')\n",
    "    print(str(i + 1) + ':')\n",
    "    print(gaussSeidel(A, np.ones([1,A.shape[0]], dtype = 'float').transpose(), 1e-6))"
   ]
  }
 ],
 "metadata": {
  "anaconda-cloud": {},
  "kernelspec": {
   "display_name": "Python [conda root]",
   "language": "python",
   "name": "conda-root-py"
  },
  "language_info": {
   "codemirror_mode": {
    "name": "ipython",
    "version": 3
   },
   "file_extension": ".py",
   "mimetype": "text/x-python",
   "name": "python",
   "nbconvert_exporter": "python",
   "pygments_lexer": "ipython3",
   "version": "3.5.2"
  }
 },
 "nbformat": 4,
 "nbformat_minor": 1
}
