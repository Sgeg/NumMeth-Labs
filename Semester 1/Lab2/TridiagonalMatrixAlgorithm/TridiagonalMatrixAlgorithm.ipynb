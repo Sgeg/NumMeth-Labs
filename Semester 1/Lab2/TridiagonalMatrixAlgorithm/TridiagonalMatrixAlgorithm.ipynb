{
 "cells": [
  {
   "cell_type": "code",
   "execution_count": 2,
   "metadata": {
    "collapsed": true
   },
   "outputs": [],
   "source": [
    "import numpy as np"
   ]
  },
  {
   "cell_type": "markdown",
   "metadata": {},
   "source": [
    "# Tridiagonal Matrix Algorithm"
   ]
  },
  {
   "cell_type": "code",
   "execution_count": 114,
   "metadata": {
    "collapsed": true
   },
   "outputs": [],
   "source": [
    "def trMatAlg(a, b, c, d):\n",
    "    alpha = np.zeros(a.shape[0] - 1, dtype = 'float')\n",
    "    beta = np.zeros(a.shape[0] - 1, dtype = 'float')\n",
    "    alpha[-1] = -a[-1] / b[-1]\n",
    "    beta[-1] = d[-1] / b[-1]\n",
    "    for i in range(alpha.shape[0] - 1, 0, -1):\n",
    "        alpha[i - 1] = -a[i] / (b[i] + c[i] * alpha[i])\n",
    "        beta[i - 1] = (d[i] - c[i] * beta[i]) / (b[i] + c[i] * alpha[i])\n",
    "    x = np.zeros(a.shape[0], dtype = 'float')\n",
    "    x[0] = (d[0] - beta[0]) / (alpha[0] * c[0] + b[0])\n",
    "    for i in range(1, x.shape[0]):\n",
    "        x[i] = alpha[i - 1] * x[i - 1] + beta[i - 1]\n",
    "    return x"
   ]
  },
  {
   "cell_type": "code",
   "execution_count": 115,
   "metadata": {
    "collapsed": false
   },
   "outputs": [
    {
     "name": "stdout",
     "output_type": "stream",
     "text": [
      "1:\n",
      "[-3.  1.  5. -8.]\n"
     ]
    }
   ],
   "source": [
    "with open('input.txt') as f:\n",
    "    lines = f.readlines()\n",
    "for i in range(len(lines)):\n",
    "    A = np.matrix(lines[i], dtype = 'float')\n",
    "    A = np.asarray(A)\n",
    "    print(str(i + 1) + ':')\n",
    "    print(trMatAlg(A[0], A[1], A[2], A[3]))"
   ]
  }
 ],
 "metadata": {
  "anaconda-cloud": {},
  "kernelspec": {
   "display_name": "Python [conda root]",
   "language": "python",
   "name": "conda-root-py"
  },
  "language_info": {
   "codemirror_mode": {
    "name": "ipython",
    "version": 3
   },
   "file_extension": ".py",
   "mimetype": "text/x-python",
   "name": "python",
   "nbconvert_exporter": "python",
   "pygments_lexer": "ipython3",
   "version": "3.5.2"
  }
 },
 "nbformat": 4,
 "nbformat_minor": 1
}
